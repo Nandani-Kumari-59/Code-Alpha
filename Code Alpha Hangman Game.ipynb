{
 "cells": [
  {
   "cell_type": "code",
   "execution_count": 12,
   "id": "79dfc233-e322-4fe4-9615-d16fdef535bf",
   "metadata": {},
   "outputs": [
    {
     "name": "stdout",
     "output_type": "stream",
     "text": [
      "Welcome to Hangman!\n",
      "__________\n"
     ]
    },
    {
     "name": "stdin",
     "output_type": "stream",
     "text": [
      "Guess a letter:  p\n"
     ]
    },
    {
     "name": "stdout",
     "output_type": "stream",
     "text": [
      "Good guess, p is in the word!\n",
      "________p_\n",
      "Tries left: 6\n"
     ]
    },
    {
     "name": "stdin",
     "output_type": "stream",
     "text": [
      "Guess a letter:  j\n"
     ]
    },
    {
     "name": "stdout",
     "output_type": "stream",
     "text": [
      "Good guess, j is in the word!\n",
      "j_______p_\n",
      "Tries left: 6\n"
     ]
    },
    {
     "name": "stdin",
     "output_type": "stream",
     "text": [
      "Guess a letter:  a\n"
     ]
    },
    {
     "name": "stdout",
     "output_type": "stream",
     "text": [
      "Good guess, a is in the word!\n",
      "ja_a____p_\n",
      "Tries left: 6\n"
     ]
    },
    {
     "name": "stdin",
     "output_type": "stream",
     "text": [
      "Guess a letter:  v\n"
     ]
    },
    {
     "name": "stdout",
     "output_type": "stream",
     "text": [
      "Good guess, v is in the word!\n",
      "java____p_\n",
      "Tries left: 6\n"
     ]
    },
    {
     "name": "stdin",
     "output_type": "stream",
     "text": [
      "Guess a letter:  s\n"
     ]
    },
    {
     "name": "stdout",
     "output_type": "stream",
     "text": [
      "Good guess, s is in the word!\n",
      "javas___p_\n",
      "Tries left: 6\n"
     ]
    },
    {
     "name": "stdin",
     "output_type": "stream",
     "text": [
      "Guess a letter:  c\n"
     ]
    },
    {
     "name": "stdout",
     "output_type": "stream",
     "text": [
      "Good guess, c is in the word!\n",
      "javasc__p_\n",
      "Tries left: 6\n"
     ]
    },
    {
     "name": "stdin",
     "output_type": "stream",
     "text": [
      "Guess a letter:  r\n"
     ]
    },
    {
     "name": "stdout",
     "output_type": "stream",
     "text": [
      "Good guess, r is in the word!\n",
      "javascr_p_\n",
      "Tries left: 6\n"
     ]
    },
    {
     "name": "stdin",
     "output_type": "stream",
     "text": [
      "Guess a letter:  i\n"
     ]
    },
    {
     "name": "stdout",
     "output_type": "stream",
     "text": [
      "Good guess, i is in the word!\n",
      "javascrip_\n",
      "Tries left: 6\n"
     ]
    },
    {
     "name": "stdin",
     "output_type": "stream",
     "text": [
      "Guess a letter:  t\n"
     ]
    },
    {
     "name": "stdout",
     "output_type": "stream",
     "text": [
      "Good guess, t is in the word!\n",
      "javascript\n",
      "Tries left: 6\n",
      "Congratulations, you guessed the word!\n"
     ]
    }
   ],
   "source": [
    "# Hangman Game\n",
    "\n",
    "import random\n",
    "\n",
    "def hangman():\n",
    "    words = [\"python\", \"java\", \"kotlin\", \"javascript\"]\n",
    "    choice = random.choice(words)\n",
    "    guessed_word = \"_\" * len(choice)\n",
    "    guessed = False\n",
    "    guessed_letters = []\n",
    "    tries = 6\n",
    "    \n",
    "    print(\"Welcome to Hangman!\")\n",
    "    print(guessed_word)\n",
    "    \n",
    "    while not guessed and tries > 0:\n",
    "        guess = input(\"Guess a letter: \").lower()\n",
    "        if len(guess) == 1 and guess.isalpha():\n",
    "            if guess in guessed_letters:\n",
    "                print(\"You already guessed that letter.\")\n",
    "            elif guess not in choice:\n",
    "                print(f\"{guess} is not in the word.\")\n",
    "                tries -= 1\n",
    "                guessed_letters.append(guess)\n",
    "            else:\n",
    "                print(f\"Good guess, {guess} is in the word!\")\n",
    "                guessed_letters.append(guess)\n",
    "                guessed_word = \"\".join([guess if choice[i] == guess else guessed_word[i] for i in range(len(choice))])\n",
    "                if \"_\" not in guessed_word:\n",
    "                    guessed = True\n",
    "        else:\n",
    "            print(\"Invalid input, please enter a single letter.\")\n",
    "        \n",
    "        print(guessed_word)\n",
    "        print(f\"Tries left: {tries}\")\n",
    "    \n",
    "    if guessed:\n",
    "        print(\"Congratulations, you guessed the word!\")\n",
    "    else:\n",
    "        print(f\"Sorry, you ran out of tries. The word was '{choice}'.\")\n",
    "\n",
    "hangman()\n"
   ]
  },
  {
   "cell_type": "code",
   "execution_count": null,
   "id": "4e5ddfb7-e333-4df7-acc5-18fada8d03ce",
   "metadata": {},
   "outputs": [],
   "source": []
  }
 ],
 "metadata": {
  "kernelspec": {
   "display_name": "Python 3 (ipykernel)",
   "language": "python",
   "name": "python3"
  },
  "language_info": {
   "codemirror_mode": {
    "name": "ipython",
    "version": 3
   },
   "file_extension": ".py",
   "mimetype": "text/x-python",
   "name": "python",
   "nbconvert_exporter": "python",
   "pygments_lexer": "ipython3",
   "version": "3.12.4"
  }
 },
 "nbformat": 4,
 "nbformat_minor": 5
}
