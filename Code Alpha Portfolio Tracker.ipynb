{
 "cells": [
  {
   "cell_type": "code",
   "execution_count": 1,
   "id": "86af3044-8873-4a8f-a83a-b16f9cbcc30e",
   "metadata": {},
   "outputs": [
    {
     "name": "stdout",
     "output_type": "stream",
     "text": [
      "Requirement already satisfied: yfinance in c:\\users\\lucky\\anaconda\\files\\lib\\site-packages (0.2.48)\n",
      "Requirement already satisfied: pandas>=1.3.0 in c:\\users\\lucky\\anaconda\\files\\lib\\site-packages (from yfinance) (2.2.2)\n",
      "Requirement already satisfied: numpy>=1.16.5 in c:\\users\\lucky\\anaconda\\files\\lib\\site-packages (from yfinance) (1.26.4)\n",
      "Requirement already satisfied: requests>=2.31 in c:\\users\\lucky\\anaconda\\files\\lib\\site-packages (from yfinance) (2.32.2)\n",
      "Requirement already satisfied: multitasking>=0.0.7 in c:\\users\\lucky\\anaconda\\files\\lib\\site-packages (from yfinance) (0.0.11)\n",
      "Requirement already satisfied: lxml>=4.9.1 in c:\\users\\lucky\\anaconda\\files\\lib\\site-packages (from yfinance) (5.2.1)\n",
      "Requirement already satisfied: platformdirs>=2.0.0 in c:\\users\\lucky\\anaconda\\files\\lib\\site-packages (from yfinance) (3.10.0)\n",
      "Requirement already satisfied: pytz>=2022.5 in c:\\users\\lucky\\anaconda\\files\\lib\\site-packages (from yfinance) (2024.1)\n",
      "Requirement already satisfied: frozendict>=2.3.4 in c:\\users\\lucky\\anaconda\\files\\lib\\site-packages (from yfinance) (2.4.2)\n",
      "Requirement already satisfied: peewee>=3.16.2 in c:\\users\\lucky\\anaconda\\files\\lib\\site-packages (from yfinance) (3.17.7)\n",
      "Requirement already satisfied: beautifulsoup4>=4.11.1 in c:\\users\\lucky\\anaconda\\files\\lib\\site-packages (from yfinance) (4.12.3)\n",
      "Requirement already satisfied: html5lib>=1.1 in c:\\users\\lucky\\anaconda\\files\\lib\\site-packages (from yfinance) (1.1)\n",
      "Requirement already satisfied: soupsieve>1.2 in c:\\users\\lucky\\anaconda\\files\\lib\\site-packages (from beautifulsoup4>=4.11.1->yfinance) (2.5)\n",
      "Requirement already satisfied: six>=1.9 in c:\\users\\lucky\\anaconda\\files\\lib\\site-packages (from html5lib>=1.1->yfinance) (1.16.0)\n",
      "Requirement already satisfied: webencodings in c:\\users\\lucky\\anaconda\\files\\lib\\site-packages (from html5lib>=1.1->yfinance) (0.5.1)\n",
      "Requirement already satisfied: python-dateutil>=2.8.2 in c:\\users\\lucky\\anaconda\\files\\lib\\site-packages (from pandas>=1.3.0->yfinance) (2.9.0.post0)\n",
      "Requirement already satisfied: tzdata>=2022.7 in c:\\users\\lucky\\anaconda\\files\\lib\\site-packages (from pandas>=1.3.0->yfinance) (2023.3)\n",
      "Requirement already satisfied: charset-normalizer<4,>=2 in c:\\users\\lucky\\anaconda\\files\\lib\\site-packages (from requests>=2.31->yfinance) (2.0.4)\n",
      "Requirement already satisfied: idna<4,>=2.5 in c:\\users\\lucky\\anaconda\\files\\lib\\site-packages (from requests>=2.31->yfinance) (3.7)\n",
      "Requirement already satisfied: urllib3<3,>=1.21.1 in c:\\users\\lucky\\anaconda\\files\\lib\\site-packages (from requests>=2.31->yfinance) (2.2.2)\n",
      "Requirement already satisfied: certifi>=2017.4.17 in c:\\users\\lucky\\anaconda\\files\\lib\\site-packages (from requests>=2.31->yfinance) (2024.6.2)\n",
      "Note: you may need to restart the kernel to use updated packages.\n"
     ]
    }
   ],
   "source": [
    "pip install yfinance"
   ]
  },
  {
   "cell_type": "code",
   "execution_count": 2,
   "id": "1a48e981-5fe9-4218-9020-96a12e06ec13",
   "metadata": {},
   "outputs": [
    {
     "name": "stdout",
     "output_type": "stream",
     "text": [
      "Added 10 shares of AAPL.\n",
      "Added 5 shares of GOOGL.\n",
      "Your portfolio:\n"
     ]
    },
    {
     "name": "stderr",
     "output_type": "stream",
     "text": [
      "C:\\Users\\lucky\\AppData\\Local\\Temp\\ipykernel_20600\\847905496.py:27: FutureWarning: Series.__getitem__ treating keys as positions is deprecated. In a future version, integer keys will always be treated as labels (consistent with DataFrame behavior). To access a value by position, use `ser.iloc[pos]`\n",
      "  current_price = stock.history(period=\"1d\")['Close'][0]\n",
      "C:\\Users\\lucky\\AppData\\Local\\Temp\\ipykernel_20600\\847905496.py:27: FutureWarning: Series.__getitem__ treating keys as positions is deprecated. In a future version, integer keys will always be treated as labels (consistent with DataFrame behavior). To access a value by position, use `ser.iloc[pos]`\n",
      "  current_price = stock.history(period=\"1d\")['Close'][0]\n"
     ]
    },
    {
     "name": "stdout",
     "output_type": "stream",
     "text": [
      "AAPL: 10 shares at $231.41 each, Total Value: $2314.10\n",
      "GOOGL: 5 shares at $165.27 each, Total Value: $826.35\n"
     ]
    },
    {
     "name": "stderr",
     "output_type": "stream",
     "text": [
      "C:\\Users\\lucky\\AppData\\Local\\Temp\\ipykernel_20600\\847905496.py:35: FutureWarning: Series.__getitem__ treating keys as positions is deprecated. In a future version, integer keys will always be treated as labels (consistent with DataFrame behavior). To access a value by position, use `ser.iloc[pos]`\n",
      "  current_price = stock.history(period=\"1d\")['Close'][0]\n",
      "C:\\Users\\lucky\\AppData\\Local\\Temp\\ipykernel_20600\\847905496.py:35: FutureWarning: Series.__getitem__ treating keys as positions is deprecated. In a future version, integer keys will always be treated as labels (consistent with DataFrame behavior). To access a value by position, use `ser.iloc[pos]`\n",
      "  current_price = stock.history(period=\"1d\")['Close'][0]\n",
      "C:\\Users\\lucky\\AppData\\Local\\Temp\\ipykernel_20600\\847905496.py:27: FutureWarning: Series.__getitem__ treating keys as positions is deprecated. In a future version, integer keys will always be treated as labels (consistent with DataFrame behavior). To access a value by position, use `ser.iloc[pos]`\n",
      "  current_price = stock.history(period=\"1d\")['Close'][0]\n",
      "C:\\Users\\lucky\\AppData\\Local\\Temp\\ipykernel_20600\\847905496.py:27: FutureWarning: Series.__getitem__ treating keys as positions is deprecated. In a future version, integer keys will always be treated as labels (consistent with DataFrame behavior). To access a value by position, use `ser.iloc[pos]`\n",
      "  current_price = stock.history(period=\"1d\")['Close'][0]\n"
     ]
    },
    {
     "name": "stdout",
     "output_type": "stream",
     "text": [
      "Total portfolio value: $3140.45\n",
      "Removed 5 shares of AAPL.\n",
      "Your portfolio:\n",
      "AAPL: 5 shares at $231.41 each, Total Value: $1157.05\n",
      "GOOGL: 5 shares at $165.27 each, Total Value: $826.35\n",
      "Total portfolio value: $1983.40\n"
     ]
    },
    {
     "name": "stderr",
     "output_type": "stream",
     "text": [
      "C:\\Users\\lucky\\AppData\\Local\\Temp\\ipykernel_20600\\847905496.py:35: FutureWarning: Series.__getitem__ treating keys as positions is deprecated. In a future version, integer keys will always be treated as labels (consistent with DataFrame behavior). To access a value by position, use `ser.iloc[pos]`\n",
      "  current_price = stock.history(period=\"1d\")['Close'][0]\n",
      "C:\\Users\\lucky\\AppData\\Local\\Temp\\ipykernel_20600\\847905496.py:35: FutureWarning: Series.__getitem__ treating keys as positions is deprecated. In a future version, integer keys will always be treated as labels (consistent with DataFrame behavior). To access a value by position, use `ser.iloc[pos]`\n",
      "  current_price = stock.history(period=\"1d\")['Close'][0]\n"
     ]
    }
   ],
   "source": [
    "import yfinance as yf\n",
    "\n",
    "class StockPortfolio:\n",
    "    def __init__(self):\n",
    "        self.portfolio = {}\n",
    "    \n",
    "    def add_stock(self, ticker, shares):\n",
    "        if ticker in self.portfolio:\n",
    "            self.portfolio[ticker] += shares\n",
    "        else:\n",
    "            self.portfolio[ticker] = shares\n",
    "        print(f\"Added {shares} shares of {ticker}.\")\n",
    "\n",
    "    def remove_stock(self, ticker, shares):\n",
    "        if ticker in self.portfolio and self.portfolio[ticker] >= shares:\n",
    "            self.portfolio[ticker] -= shares\n",
    "            print(f\"Removed {shares} shares of {ticker}.\")\n",
    "            if self.portfolio[ticker] == 0:\n",
    "                del self.portfolio[ticker]\n",
    "        else:\n",
    "            print(\"Not enough shares or stock not in portfolio.\")\n",
    "    \n",
    "    def show_portfolio(self):\n",
    "        print(\"Your portfolio:\")\n",
    "        for ticker, shares in self.portfolio.items():\n",
    "            stock = yf.Ticker(ticker)\n",
    "            current_price = stock.history(period=\"1d\")['Close'][0]\n",
    "            total_value = current_price * shares\n",
    "            print(f\"{ticker}: {shares} shares at ${current_price:.2f} each, Total Value: ${total_value:.2f}\")\n",
    "    \n",
    "    def total_value(self):\n",
    "        total = 0\n",
    "        for ticker, shares in self.portfolio.items():\n",
    "            stock = yf.Ticker(ticker)\n",
    "            current_price = stock.history(period=\"1d\")['Close'][0]\n",
    "            total += current_price * shares\n",
    "        print(f\"Total portfolio value: ${total:.2f}\")\n",
    "\n",
    "portfolio = StockPortfolio()\n",
    "portfolio.add_stock(\"AAPL\", 10)\n",
    "portfolio.add_stock(\"GOOGL\", 5)\n",
    "portfolio.show_portfolio()\n",
    "portfolio.total_value()\n",
    "portfolio.remove_stock(\"AAPL\", 5)\n",
    "portfolio.show_portfolio()\n",
    "portfolio.total_value()"
   ]
  },
  {
   "cell_type": "code",
   "execution_count": null,
   "id": "52adb350-b6d0-4281-a132-ea83565ec1f7",
   "metadata": {},
   "outputs": [],
   "source": []
  }
 ],
 "metadata": {
  "kernelspec": {
   "display_name": "Python 3 (ipykernel)",
   "language": "python",
   "name": "python3"
  },
  "language_info": {
   "codemirror_mode": {
    "name": "ipython",
    "version": 3
   },
   "file_extension": ".py",
   "mimetype": "text/x-python",
   "name": "python",
   "nbconvert_exporter": "python",
   "pygments_lexer": "ipython3",
   "version": "3.12.4"
  }
 },
 "nbformat": 4,
 "nbformat_minor": 5
}
